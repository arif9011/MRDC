{
 "cells": [
  {
   "cell_type": "code",
   "execution_count": 134,
   "id": "e1601342",
   "metadata": {},
   "outputs": [
    {
     "data": {
      "text/html": [
       "<div>\n",
       "<style scoped>\n",
       "    .dataframe tbody tr th:only-of-type {\n",
       "        vertical-align: middle;\n",
       "    }\n",
       "\n",
       "    .dataframe tbody tr th {\n",
       "        vertical-align: top;\n",
       "    }\n",
       "\n",
       "    .dataframe thead th {\n",
       "        text-align: right;\n",
       "    }\n",
       "</style>\n",
       "<table border=\"1\" class=\"dataframe\">\n",
       "  <thead>\n",
       "    <tr style=\"text-align: right;\">\n",
       "      <th></th>\n",
       "      <th>card_number</th>\n",
       "      <th>expiry_date</th>\n",
       "      <th>card_provider</th>\n",
       "      <th>date_payment_confirmed</th>\n",
       "    </tr>\n",
       "  </thead>\n",
       "  <tbody>\n",
       "    <tr>\n",
       "      <th>0</th>\n",
       "      <td>30060773296197</td>\n",
       "      <td>09/26</td>\n",
       "      <td>Diners Club / Carte Blanche</td>\n",
       "      <td>2015-11-25</td>\n",
       "    </tr>\n",
       "    <tr>\n",
       "      <th>1</th>\n",
       "      <td>349624180933183</td>\n",
       "      <td>10/23</td>\n",
       "      <td>American Express</td>\n",
       "      <td>2001-06-18</td>\n",
       "    </tr>\n",
       "    <tr>\n",
       "      <th>2</th>\n",
       "      <td>3529023891650490</td>\n",
       "      <td>06/23</td>\n",
       "      <td>JCB 16 digit</td>\n",
       "      <td>2000-12-26</td>\n",
       "    </tr>\n",
       "    <tr>\n",
       "      <th>3</th>\n",
       "      <td>213142929492281</td>\n",
       "      <td>09/27</td>\n",
       "      <td>JCB 15 digit</td>\n",
       "      <td>2011-02-12</td>\n",
       "    </tr>\n",
       "    <tr>\n",
       "      <th>4</th>\n",
       "      <td>502067329974</td>\n",
       "      <td>10/25</td>\n",
       "      <td>Maestro</td>\n",
       "      <td>1997-03-13</td>\n",
       "    </tr>\n",
       "    <tr>\n",
       "      <th>...</th>\n",
       "      <td>...</td>\n",
       "      <td>...</td>\n",
       "      <td>...</td>\n",
       "      <td>...</td>\n",
       "    </tr>\n",
       "    <tr>\n",
       "      <th>14</th>\n",
       "      <td>180036921556789</td>\n",
       "      <td>12/28</td>\n",
       "      <td>JCB 15 digit</td>\n",
       "      <td>1997-06-06</td>\n",
       "    </tr>\n",
       "    <tr>\n",
       "      <th>15</th>\n",
       "      <td>180018030448512</td>\n",
       "      <td>11/24</td>\n",
       "      <td>JCB 15 digit</td>\n",
       "      <td>2004-06-16</td>\n",
       "    </tr>\n",
       "    <tr>\n",
       "      <th>16</th>\n",
       "      <td>3569953313547220</td>\n",
       "      <td>04/24</td>\n",
       "      <td>JCB 16 digit</td>\n",
       "      <td>2020-02-05</td>\n",
       "    </tr>\n",
       "    <tr>\n",
       "      <th>17</th>\n",
       "      <td>4444521712606810</td>\n",
       "      <td>06/27</td>\n",
       "      <td>VISA 16 digit</td>\n",
       "      <td>2008-06-16</td>\n",
       "    </tr>\n",
       "    <tr>\n",
       "      <th>18</th>\n",
       "      <td>372031786522735</td>\n",
       "      <td>02/30</td>\n",
       "      <td>American Express</td>\n",
       "      <td>2009-02-04</td>\n",
       "    </tr>\n",
       "  </tbody>\n",
       "</table>\n",
       "<p>15309 rows × 4 columns</p>\n",
       "</div>"
      ],
      "text/plain": [
       "         card_number expiry_date                card_provider  \\\n",
       "0     30060773296197       09/26  Diners Club / Carte Blanche   \n",
       "1    349624180933183       10/23             American Express   \n",
       "2   3529023891650490       06/23                 JCB 16 digit   \n",
       "3    213142929492281       09/27                 JCB 15 digit   \n",
       "4       502067329974       10/25                      Maestro   \n",
       "..               ...         ...                          ...   \n",
       "14   180036921556789       12/28                 JCB 15 digit   \n",
       "15   180018030448512       11/24                 JCB 15 digit   \n",
       "16  3569953313547220       04/24                 JCB 16 digit   \n",
       "17  4444521712606810       06/27                VISA 16 digit   \n",
       "18   372031786522735       02/30             American Express   \n",
       "\n",
       "   date_payment_confirmed  \n",
       "0              2015-11-25  \n",
       "1              2001-06-18  \n",
       "2              2000-12-26  \n",
       "3              2011-02-12  \n",
       "4              1997-03-13  \n",
       "..                    ...  \n",
       "14             1997-06-06  \n",
       "15             2004-06-16  \n",
       "16             2020-02-05  \n",
       "17             2008-06-16  \n",
       "18             2009-02-04  \n",
       "\n",
       "[15309 rows x 4 columns]"
      ]
     },
     "execution_count": 134,
     "metadata": {},
     "output_type": "execute_result"
    }
   ],
   "source": [
    "import pandas as pd\n",
    "import tabula\n",
    "card_df = tabula.read_pdf('https://data-handling-public.s3.eu-west-1.amazonaws.com/card_details.pdf',pages='all')\n",
    "card_df = pd.concat(card_df)\n",
    "card_df"
   ]
  },
  {
   "cell_type": "code",
   "execution_count": 139,
   "id": "4c4be41f",
   "metadata": {},
   "outputs": [
    {
     "name": "stdout",
     "output_type": "stream",
     "text": [
      "<class 'pandas.core.frame.DataFrame'>\n"
     ]
    }
   ],
   "source": [
    "print(type(card_df))"
   ]
  },
  {
   "cell_type": "code",
   "execution_count": 137,
   "id": "64cfc694",
   "metadata": {},
   "outputs": [
    {
     "name": "stdout",
     "output_type": "stream",
     "text": [
      "         card_number expiry_date                card_provider  \\\n",
      "0     30060773296197       09/26  Diners Club / Carte Blanche   \n",
      "1    349624180933183       10/23             American Express   \n",
      "2   3529023891650490       06/23                 JCB 16 digit   \n",
      "3    213142929492281       09/27                 JCB 15 digit   \n",
      "4       502067329974       10/25                      Maestro   \n",
      "..               ...         ...                          ...   \n",
      "14   180036921556789       12/28                 JCB 15 digit   \n",
      "15   180018030448512       11/24                 JCB 15 digit   \n",
      "16  3569953313547220       04/24                 JCB 16 digit   \n",
      "17  4444521712606810       06/27                VISA 16 digit   \n",
      "18   372031786522735       02/30             American Express   \n",
      "\n",
      "   date_payment_confirmed  \n",
      "0              2015-11-25  \n",
      "1              2001-06-18  \n",
      "2              2000-12-26  \n",
      "3              2011-02-12  \n",
      "4              1997-03-13  \n",
      "..                    ...  \n",
      "14             1997-06-06  \n",
      "15             2004-06-16  \n",
      "16             2020-02-05  \n",
      "17             2008-06-16  \n",
      "18             2009-02-04  \n",
      "\n",
      "[15309 rows x 4 columns]\n"
     ]
    }
   ],
   "source": [
    "print(card_df)"
   ]
  },
  {
   "cell_type": "code",
   "execution_count": 140,
   "id": "07bdf75d",
   "metadata": {},
   "outputs": [
    {
     "data": {
      "text/plain": [
       "15309"
      ]
     },
     "execution_count": 140,
     "metadata": {},
     "output_type": "execute_result"
    }
   ],
   "source": [
    "len(card_df)\n",
    "\n"
   ]
  },
  {
   "cell_type": "code",
   "execution_count": 62,
   "id": "78a85236",
   "metadata": {},
   "outputs": [],
   "source": [
    " "
   ]
  },
  {
   "cell_type": "code",
   "execution_count": 133,
   "id": "9bfb4ce5",
   "metadata": {},
   "outputs": [
    {
     "data": {
      "text/html": [
       "<div>\n",
       "<style scoped>\n",
       "    .dataframe tbody tr th:only-of-type {\n",
       "        vertical-align: middle;\n",
       "    }\n",
       "\n",
       "    .dataframe tbody tr th {\n",
       "        vertical-align: top;\n",
       "    }\n",
       "\n",
       "    .dataframe thead th {\n",
       "        text-align: right;\n",
       "    }\n",
       "</style>\n",
       "<table border=\"1\" class=\"dataframe\">\n",
       "  <thead>\n",
       "    <tr style=\"text-align: right;\">\n",
       "      <th></th>\n",
       "      <th>card_number</th>\n",
       "      <th>expiry_date</th>\n",
       "      <th>card_provider</th>\n",
       "      <th>date_payment_confirmed</th>\n",
       "    </tr>\n",
       "  </thead>\n",
       "  <tbody>\n",
       "    <tr>\n",
       "      <th>0</th>\n",
       "      <td>30060773296197</td>\n",
       "      <td>09/26</td>\n",
       "      <td>Diners Club / Carte Blanche</td>\n",
       "      <td>2015-11-25</td>\n",
       "    </tr>\n",
       "    <tr>\n",
       "      <th>1</th>\n",
       "      <td>349624180933183</td>\n",
       "      <td>10/23</td>\n",
       "      <td>American Express</td>\n",
       "      <td>2001-06-18</td>\n",
       "    </tr>\n",
       "    <tr>\n",
       "      <th>2</th>\n",
       "      <td>3529023891650490</td>\n",
       "      <td>06/23</td>\n",
       "      <td>JCB 16 digit</td>\n",
       "      <td>2000-12-26</td>\n",
       "    </tr>\n",
       "    <tr>\n",
       "      <th>3</th>\n",
       "      <td>213142929492281</td>\n",
       "      <td>09/27</td>\n",
       "      <td>JCB 15 digit</td>\n",
       "      <td>2011-02-12</td>\n",
       "    </tr>\n",
       "    <tr>\n",
       "      <th>4</th>\n",
       "      <td>502067329974</td>\n",
       "      <td>10/25</td>\n",
       "      <td>Maestro</td>\n",
       "      <td>1997-03-13</td>\n",
       "    </tr>\n",
       "    <tr>\n",
       "      <th>...</th>\n",
       "      <td>...</td>\n",
       "      <td>...</td>\n",
       "      <td>...</td>\n",
       "      <td>...</td>\n",
       "    </tr>\n",
       "    <tr>\n",
       "      <th>14</th>\n",
       "      <td>180036921556789</td>\n",
       "      <td>12/28</td>\n",
       "      <td>JCB 15 digit</td>\n",
       "      <td>1997-06-06</td>\n",
       "    </tr>\n",
       "    <tr>\n",
       "      <th>15</th>\n",
       "      <td>180018030448512</td>\n",
       "      <td>11/24</td>\n",
       "      <td>JCB 15 digit</td>\n",
       "      <td>2004-06-16</td>\n",
       "    </tr>\n",
       "    <tr>\n",
       "      <th>16</th>\n",
       "      <td>3569953313547220</td>\n",
       "      <td>04/24</td>\n",
       "      <td>JCB 16 digit</td>\n",
       "      <td>2020-02-05</td>\n",
       "    </tr>\n",
       "    <tr>\n",
       "      <th>17</th>\n",
       "      <td>4444521712606810</td>\n",
       "      <td>06/27</td>\n",
       "      <td>VISA 16 digit</td>\n",
       "      <td>2008-06-16</td>\n",
       "    </tr>\n",
       "    <tr>\n",
       "      <th>18</th>\n",
       "      <td>372031786522735</td>\n",
       "      <td>02/30</td>\n",
       "      <td>American Express</td>\n",
       "      <td>2009-02-04</td>\n",
       "    </tr>\n",
       "  </tbody>\n",
       "</table>\n",
       "<p>15309 rows × 4 columns</p>\n",
       "</div>"
      ],
      "text/plain": [
       "         card_number expiry_date                card_provider  \\\n",
       "0     30060773296197       09/26  Diners Club / Carte Blanche   \n",
       "1    349624180933183       10/23             American Express   \n",
       "2   3529023891650490       06/23                 JCB 16 digit   \n",
       "3    213142929492281       09/27                 JCB 15 digit   \n",
       "4       502067329974       10/25                      Maestro   \n",
       "..               ...         ...                          ...   \n",
       "14   180036921556789       12/28                 JCB 15 digit   \n",
       "15   180018030448512       11/24                 JCB 15 digit   \n",
       "16  3569953313547220       04/24                 JCB 16 digit   \n",
       "17  4444521712606810       06/27                VISA 16 digit   \n",
       "18   372031786522735       02/30             American Express   \n",
       "\n",
       "   date_payment_confirmed  \n",
       "0              2015-11-25  \n",
       "1              2001-06-18  \n",
       "2              2000-12-26  \n",
       "3              2011-02-12  \n",
       "4              1997-03-13  \n",
       "..                    ...  \n",
       "14             1997-06-06  \n",
       "15             2004-06-16  \n",
       "16             2020-02-05  \n",
       "17             2008-06-16  \n",
       "18             2009-02-04  \n",
       "\n",
       "[15309 rows x 4 columns]"
      ]
     },
     "execution_count": 133,
     "metadata": {},
     "output_type": "execute_result"
    }
   ],
   "source": [
    "card_df"
   ]
  },
  {
   "cell_type": "code",
   "execution_count": 156,
   "id": "5e8980ba",
   "metadata": {},
   "outputs": [],
   "source": [
    " #remove null value for each column\n",
    "card_df=card_df.dropna()"
   ]
  },
  {
   "cell_type": "code",
   "execution_count": null,
   "id": "a81c7189",
   "metadata": {},
   "outputs": [],
   "source": []
  },
  {
   "cell_type": "code",
   "execution_count": 154,
   "id": "50a4250a",
   "metadata": {},
   "outputs": [
    {
     "name": "stdout",
     "output_type": "stream",
     "text": [
      "<class 'pandas.core.frame.DataFrame'>\n",
      "Int64Index: 15284 entries, 0 to 18\n",
      "Data columns (total 4 columns):\n",
      " #   Column                  Non-Null Count  Dtype         \n",
      "---  ------                  --------------  -----         \n",
      " 0   card_number             15284 non-null  object        \n",
      " 1   expiry_date             1312 non-null   datetime64[ns]\n",
      " 2   card_provider           15284 non-null  object        \n",
      " 3   date_payment_confirmed  15284 non-null  datetime64[ns]\n",
      "dtypes: datetime64[ns](2), object(2)\n",
      "memory usage: 597.0+ KB\n"
     ]
    }
   ],
   "source": [
    "   # check columns information \n",
    "card_df.info()"
   ]
  },
  {
   "cell_type": "code",
   "execution_count": 142,
   "id": "7db97e74",
   "metadata": {},
   "outputs": [
    {
     "data": {
      "text/plain": [
       "card_number               0\n",
       "expiry_date               0\n",
       "card_provider             0\n",
       "date_payment_confirmed    0\n",
       "dtype: int64"
      ]
     },
     "execution_count": 142,
     "metadata": {},
     "output_type": "execute_result"
    }
   ],
   "source": [
    "card_df.isnull().sum()"
   ]
  },
  {
   "cell_type": "code",
   "execution_count": 143,
   "id": "e49a5798",
   "metadata": {},
   "outputs": [],
   "source": [
    " # remove some NULL entries from card number\n",
    "card_df = card_df[card_df['card_number']!='NULL']"
   ]
  },
  {
   "cell_type": "code",
   "execution_count": null,
   "id": "b27932d1",
   "metadata": {},
   "outputs": [],
   "source": [
    "\n"
   ]
  },
  {
   "cell_type": "code",
   "execution_count": 144,
   "id": "bc91324b",
   "metadata": {},
   "outputs": [],
   "source": [
    "# transform the payment date into a datetime object\n",
    "card_df['date_payment_confirmed'] = pd.to_datetime(card_df['date_payment_confirmed'], infer_datetime_format=True, errors = 'coerce')"
   ]
  },
  {
   "cell_type": "code",
   "execution_count": 152,
   "id": "1a9013b1",
   "metadata": {},
   "outputs": [
    {
     "name": "stdout",
     "output_type": "stream",
     "text": [
      "<class 'pandas.core.frame.DataFrame'>\n",
      "Int64Index: 15284 entries, 0 to 18\n",
      "Data columns (total 4 columns):\n",
      " #   Column                  Non-Null Count  Dtype         \n",
      "---  ------                  --------------  -----         \n",
      " 0   card_number             15284 non-null  object        \n",
      " 1   expiry_date             1312 non-null   datetime64[ns]\n",
      " 2   card_provider           15284 non-null  object        \n",
      " 3   date_payment_confirmed  15284 non-null  datetime64[ns]\n",
      "dtypes: datetime64[ns](2), object(2)\n",
      "memory usage: 597.0+ KB\n"
     ]
    }
   ],
   "source": [
    "# check to confirm\n",
    "card_df.info()"
   ]
  },
  {
   "cell_type": "code",
   "execution_count": 146,
   "id": "531939ec",
   "metadata": {},
   "outputs": [],
   "source": [
    "# transform the card expiry date into a datetime object\n",
    "card_df['expiry_date'] =  pd.to_datetime(card_df['expiry_date'], infer_datetime_format=True, errors = 'coerce')"
   ]
  },
  {
   "cell_type": "code",
   "execution_count": 167,
   "id": "5c835e26",
   "metadata": {},
   "outputs": [
    {
     "name": "stdout",
     "output_type": "stream",
     "text": [
      "<class 'pandas.core.frame.DataFrame'>\n",
      "Int64Index: 1312 entries, 16 to 4\n",
      "Data columns (total 4 columns):\n",
      " #   Column                  Non-Null Count  Dtype         \n",
      "---  ------                  --------------  -----         \n",
      " 0   card_number             1312 non-null   object        \n",
      " 1   expiry_date             1312 non-null   datetime64[ns]\n",
      " 2   card_provider           1312 non-null   category      \n",
      " 3   date_payment_confirmed  1312 non-null   datetime64[ns]\n",
      "dtypes: category(1), datetime64[ns](2), object(1)\n",
      "memory usage: 42.7+ KB\n"
     ]
    }
   ],
   "source": [
    "# check to confirm\n",
    "card_df.info()"
   ]
  },
  {
   "cell_type": "code",
   "execution_count": 153,
   "id": "139de928",
   "metadata": {},
   "outputs": [],
   "source": [
    " # remove some wrong entries by removing the lines with wrong card provides\n",
    "card_df = card_df[card_df['card_provider'].isin(['Diners Club / Carte Blanche', 'American Express', 'JCB 16 digit',\n",
    "        'JCB 15 digit', 'Maestro', 'Mastercard', 'Discover',\n",
    "        'VISA 19 digit', 'VISA 16 digit', 'VISA 13 digit'])]"
   ]
  },
  {
   "cell_type": "code",
   "execution_count": 158,
   "id": "159421b6",
   "metadata": {},
   "outputs": [],
   "source": [
    " # Removes ? question marks from card numbers\n",
    "import re\n",
    "card_df['card_number'] = card_df['card_number'].apply(lambda x: re.sub(r'^\\?+', '', x) if isinstance(x, str) else x)"
   ]
  },
  {
   "cell_type": "code",
   "execution_count": 160,
   "id": "76f5635b",
   "metadata": {},
   "outputs": [],
   "source": [
    "# removes non-numeric card numbers\n",
    "card_df = card_df[card_df['card_number'].apply(lambda x: str(x).isdigit())]"
   ]
  },
  {
   "cell_type": "code",
   "execution_count": 161,
   "id": "991b32e5",
   "metadata": {},
   "outputs": [
    {
     "ename": "AttributeError",
     "evalue": "'list' object has no attribute 'info'",
     "output_type": "error",
     "traceback": [
      "\u001b[1;31m---------------------------------------------------------------------------\u001b[0m",
      "\u001b[1;31mAttributeError\u001b[0m                            Traceback (most recent call last)",
      "Cell \u001b[1;32mIn[161], line 1\u001b[0m\n\u001b[1;32m----> 1\u001b[0m \u001b[43m[\u001b[49m\u001b[38;5;124;43m'\u001b[39;49m\u001b[38;5;124;43mcard_number\u001b[39;49m\u001b[38;5;124;43m'\u001b[39;49m\u001b[43m]\u001b[49m\u001b[38;5;241;43m.\u001b[39;49m\u001b[43minfo\u001b[49m\n",
      "\u001b[1;31mAttributeError\u001b[0m: 'list' object has no attribute 'info'"
     ]
    }
   ],
   "source": []
  },
  {
   "cell_type": "code",
   "execution_count": 174,
   "id": "a1504688",
   "metadata": {},
   "outputs": [],
   "source": [
    "#converts the card number column to an integer\n",
    "card_df['card_number'] = card_df['card_number'].astype('int64')"
   ]
  },
  {
   "cell_type": "code",
   "execution_count": 163,
   "id": "65e43293",
   "metadata": {},
   "outputs": [],
   "source": [
    "# converts the card provider column to a category\n",
    "card_df['card_provider'] = card_df['card_provider'].astype('category') "
   ]
  },
  {
   "cell_type": "code",
   "execution_count": 173,
   "id": "2fa19a30",
   "metadata": {},
   "outputs": [],
   "source": [
    " import re\n",
    "    # remove the '???' from some of the entries\n",
    "card_df['card_number'] = card_df['card_number'].astype(str).str.replace('?', '', regex = True).astype('int64')"
   ]
  },
  {
   "cell_type": "code",
   "execution_count": null,
   "id": "e9f5a6c9",
   "metadata": {},
   "outputs": [],
   "source": []
  }
 ],
 "metadata": {
  "kernelspec": {
   "display_name": "Python 3 (ipykernel)",
   "language": "python",
   "name": "python3"
  },
  "language_info": {
   "codemirror_mode": {
    "name": "ipython",
    "version": 3
   },
   "file_extension": ".py",
   "mimetype": "text/x-python",
   "name": "python",
   "nbconvert_exporter": "python",
   "pygments_lexer": "ipython3",
   "version": "3.10.9"
  }
 },
 "nbformat": 4,
 "nbformat_minor": 5
}
